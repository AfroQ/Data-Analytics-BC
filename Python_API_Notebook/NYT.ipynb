{
 "cells": [
  {
   "cell_type": "code",
   "execution_count": 26,
   "metadata": {},
   "outputs": [
    {
     "name": "stdout",
     "output_type": "stream",
     "text": [
      "https://api.nytimes.com/svc/search/v2/articlesearch.json?api-key=9gWoWYlkgE4JuC2GA6QahEyVqGrcUvlQ&q=Cybersecurity&begin_date=20220211&end_date=20220112\n"
     ]
    },
    {
     "ename": "KeyError",
     "evalue": "'response'",
     "output_type": "error",
     "traceback": [
      "\u001b[1;31m---------------------------------------------------------------------------\u001b[0m",
      "\u001b[1;31mKeyError\u001b[0m                                  Traceback (most recent call last)",
      "\u001b[1;32m<ipython-input-26-a214247f2069>\u001b[0m in \u001b[0;36m<module>\u001b[1;34m\u001b[0m\n\u001b[0;32m     48\u001b[0m \u001b[1;33m\u001b[0m\u001b[0m\n\u001b[0;32m     49\u001b[0m     \u001b[1;31m# get article from query\u001b[0m\u001b[1;33m\u001b[0m\u001b[1;33m\u001b[0m\u001b[1;33m\u001b[0m\u001b[0m\n\u001b[1;32m---> 50\u001b[1;33m     \u001b[0mx\u001b[0m \u001b[1;33m=\u001b[0m \u001b[0mresponse\u001b[0m\u001b[1;33m[\u001b[0m\u001b[1;34m'response'\u001b[0m\u001b[1;33m]\u001b[0m\u001b[1;33m[\u001b[0m\u001b[1;34m'docs'\u001b[0m\u001b[1;33m]\u001b[0m\u001b[1;33m\u001b[0m\u001b[1;33m\u001b[0m\u001b[0m\n\u001b[0m\u001b[0;32m     51\u001b[0m \u001b[1;33m\u001b[0m\u001b[0m\n\u001b[0;32m     52\u001b[0m     \u001b[1;31m# add an article\u001b[0m\u001b[1;33m\u001b[0m\u001b[1;33m\u001b[0m\u001b[1;33m\u001b[0m\u001b[0m\n",
      "\u001b[1;31mKeyError\u001b[0m: 'response'"
     ]
    }
   ],
   "source": [
    "# Dependencies\n",
    "import requests\n",
    "import pandas as pd\n",
    "from config import nytapi_key\n",
    "import time\n",
    "import datetime\n",
    "\n",
    "#url = \"https://api.nytimes.com/svc/search/v2/articlesearch.json?\"\n",
    "url = \"https://api.nytimes.com/svc/search/v2/articlesearch.json?\"\n",
    "\n",
    "# Store a search term\n",
    "query = \"Cybersecurity\"\n",
    "\n",
    "# Search for articles published between a begin and end date\n",
    "\n",
    "date = datetime.date.today()\n",
    "x = date - (datetime.timedelta(days = 30))\n",
    "\n",
    "begin_date = date.strftime(\"%Y%m%d\")\n",
    "end_date = x.strftime(\"%Y%m%d\")\n",
    "\n",
    "query_url = f\"{url}api-key={nytapi_key}&q={query}&begin_date={begin_date}&end_date={end_date}\"\n",
    "print(query_url)\n",
    "\n",
    "# Retrieve articles\n",
    "articles = requests.get(query_url).json()\n",
    "articles\n",
    "articles_list = articles[\"response\"][\"docs\"]\n",
    "\n",
    "# articles_list\n",
    "\n",
    "# BONUS: How would we get 30 results? \n",
    "# HINT: Look up the page query param\n",
    "#param = {\"page=3\"}\n",
    "# Empty list for articles\n",
    "articles_list = []\n",
    "\n",
    "# loop through pages 0-2\n",
    "for page in range(0, 3):\n",
    "    query_url = f\"{url}api-key={nytapi_key}&q={query}&begin_date={begin_date}&end_date={end_date}&page={page}\"\n",
    "    #print(query_url)\n",
    "    response = requests.get(query_url).json()\n",
    "    #print(response)\n",
    "    # Add a one second interval between queries to stay within API query limits\n",
    "    time.sleep(1)\n",
    "    # loop through the response and append each article to the list\n",
    "    #run query\n",
    "\n",
    "    # get article from query\n",
    "    x = response['response']['docs']\n",
    "    \n",
    "    # add an article\n",
    "    for article in x:\n",
    "        #print(article)\n",
    "        articles_list.append(article)\n",
    "        \n",
    "#print(articles_list)\n",
    "articles_list_df = pd.DataFrame(articles_list)\n",
    "articles_list_df"
   ]
  },
  {
   "cell_type": "code",
   "execution_count": 21,
   "metadata": {},
   "outputs": [
    {
     "data": {
      "text/plain": [
       "'220211'"
      ]
     },
     "execution_count": 21,
     "metadata": {},
     "output_type": "execute_result"
    }
   ],
   "source": [
    "import datetime\n",
    "date = datetime.date.today()\n",
    "#20220131\n",
    "\n",
    "#begin_date = f\"{date.year}{date.month}{date.day}\"\n",
    "date.strftime(\"%Y%m%d\")"
   ]
  },
  {
   "cell_type": "code",
   "execution_count": 15,
   "metadata": {},
   "outputs": [
    {
     "data": {
      "text/plain": [
       "datetime.date(2022, 2, 10)"
      ]
     },
     "execution_count": 15,
     "metadata": {},
     "output_type": "execute_result"
    }
   ],
   "source": [
    "x = date - (datetime.timedelta(days = 1))\n",
    "x"
   ]
  },
  {
   "cell_type": "code",
   "execution_count": 12,
   "metadata": {},
   "outputs": [
    {
     "data": {
      "text/plain": [
       "'2022210'"
      ]
     },
     "execution_count": 12,
     "metadata": {},
     "output_type": "execute_result"
    }
   ],
   "source": [
    "end_date = f\"{date.year}{date.month}{date.day - 1}\"\n",
    "end_date"
   ]
  }
 ],
 "metadata": {
  "kernelspec": {
   "display_name": "Python 3",
   "language": "python",
   "name": "python3"
  },
  "language_info": {
   "codemirror_mode": {
    "name": "ipython",
    "version": 3
   },
   "file_extension": ".py",
   "mimetype": "text/x-python",
   "name": "python",
   "nbconvert_exporter": "python",
   "pygments_lexer": "ipython3",
   "version": "3.8.3"
  }
 },
 "nbformat": 4,
 "nbformat_minor": 4
}
