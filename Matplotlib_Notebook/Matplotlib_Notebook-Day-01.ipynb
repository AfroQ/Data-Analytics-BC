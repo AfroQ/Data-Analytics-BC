{
 "cells": [
  {
   "cell_type": "markdown",
   "metadata": {},
   "source": [
    "#  Instructor Turn - 01- Basic Line Graphs - 👩‍🏫🧑‍🏫"
   ]
  },
  {
   "cell_type": "markdown",
   "metadata": {},
   "source": [
    "# Exponential"
   ]
  },
  {
   "cell_type": "code",
   "execution_count": null,
   "metadata": {},
   "outputs": [],
   "source": [
    "# Import Numpy for calculations and matplotlib for charting\n",
    "import numpy as np\n",
    "import matplotlib.pyplot as plt"
   ]
  },
  {
   "cell_type": "code",
   "execution_count": null,
   "metadata": {},
   "outputs": [],
   "source": [
    "# Creates a list from 0 to 5 with each step being 0.1 higher than the last\n",
    "x_axis = np.arange(0, 5, 0.1)\n",
    "x_axis"
   ]
  },
  {
   "cell_type": "code",
   "execution_count": null,
   "metadata": {},
   "outputs": [],
   "source": [
    "# Creates an exponential series of values which we can then chart\n",
    "e_x = [np.exp(x) for x in x_axis]\n",
    "e_x"
   ]
  },
  {
   "cell_type": "code",
   "execution_count": null,
   "metadata": {},
   "outputs": [],
   "source": [
    "# Create a graph based upon the two lists we have created\n",
    "plt.plot(x_axis, e_x)"
   ]
  },
  {
   "cell_type": "code",
   "execution_count": null,
   "metadata": {},
   "outputs": [],
   "source": [
    "# Show the graph that we have created\n",
    "plt.show()"
   ]
  },
  {
   "cell_type": "code",
   "execution_count": null,
   "metadata": {},
   "outputs": [],
   "source": [
    "# Give our graph axis labels\n",
    "plt.xlabel(\"Time With MatPlotLib\")\n",
    "plt.ylabel(\"How Cool MatPlotLib Seems\")\n",
    "\n",
    "# Have to plot our chart once again as it doesn't stick after being shown\n",
    "plt.plot(x_axis, e_x)\n",
    "plt.show()"
   ]
  },
  {
   "cell_type": "markdown",
   "metadata": {},
   "source": [
    "# Sin Cos "
   ]
  },
  {
   "cell_type": "code",
   "execution_count": null,
   "metadata": {},
   "outputs": [],
   "source": [
    "# Import Numpy for calculations and matplotlib for charting\n",
    "import numpy as np\n",
    "import matplotlib.pyplot as plt"
   ]
  },
  {
   "cell_type": "code",
   "execution_count": null,
   "metadata": {},
   "outputs": [],
   "source": [
    "# Create our x_axis list\n",
    "x_axis = np.arange(0, 6, 0.1)"
   ]
  },
  {
   "cell_type": "code",
   "execution_count": null,
   "metadata": {},
   "outputs": [],
   "source": [
    "# Creates a list based on the sin of our x_axis values\n",
    "sin = np.sin(x_axis)"
   ]
  },
  {
   "cell_type": "code",
   "execution_count": null,
   "metadata": {},
   "outputs": [],
   "source": [
    "# Creates a list based on the cos of our x_axis values\n",
    "cos = np.cos(x_axis)"
   ]
  },
  {
   "cell_type": "code",
   "execution_count": null,
   "metadata": {},
   "outputs": [],
   "source": [
    "# Plot both of these lines so that they will appear on our final chart\n",
    "plt.plot(x_axis, sin)\n",
    "plt.plot(x_axis, cos)\n",
    "\n",
    "plt.show()"
   ]
  },
  {
   "cell_type": "markdown",
   "metadata": {},
   "source": [
    "# Student Turn - 02 - Legendary Temperature - 👩‍🎓👨‍🎓 \n",
    "\n",
    "* In this activity you will expand upon your temperature plots to add a legend.\n",
    "\n",
    "## Instructions\n",
    "\n",
    "* Modify the New Jersey temperature line charts from earlier so that they match the image provided.\n",
    "\n",
    "![model image](./Images/avg_temp.png)\n",
    "\n",
    "* Once the plot has been created, look through the [Matplotlib documentation](https://matplotlib.org/2.0.2/index.html) to see what additional formatting could be added to the chart.\n",
    "\n"
   ]
  },
  {
   "cell_type": "code",
   "execution_count": null,
   "metadata": {},
   "outputs": [],
   "source": [
    "# Include this line to make plots interactive\n",
    "%matplotlib notebook\n",
    "\n",
    "# Dependencies\n",
    "import matplotlib.pyplot as plt\n",
    "import numpy as np\n"
   ]
  },
  {
   "cell_type": "code",
   "execution_count": null,
   "metadata": {
    "scrolled": true
   },
   "outputs": [],
   "source": [
    "\n",
    "# Create an array for the x axis for the numerical value of each month\n",
    "months = [1, 2, 3, 4, 5, 6, 7, 8, 9, 10, 11, 12]\n",
    "# Avearge high temperature for each month\n",
    "highs = [39, 42, 51, 62, 72, 82, 86, 84, 77, 65, 55, 44]\n",
    "\n",
    "# Avearge low temperature for each month\n",
    "lows = [20, 22, 30, 40, 50, 60, 65, 63, 55, 42, 34, 25]\n",
    "\n",
    "# Plot both of these lines so that they will appear on our final chart.\n",
    "plt.plot(months, highs)\n",
    "plt.plot(months, lows)\n",
    "\n",
    "# Create labels for the X and Y axis\n",
    "plt.xlabel(\"Months\")\n",
    "plt.ylabel(\"Degrees(F)\")\n",
    "\n",
    "labels = [\"Highs\", \"Lows\"]\n",
    "plt.legend(labels, loc=\"best\")\n",
    "\n",
    "# Save and display the chart\n",
    "plt.savefig(\"avg_temp.png\")\n",
    "plt.show()"
   ]
  },
  {
   "cell_type": "code",
   "execution_count": null,
   "metadata": {},
   "outputs": [],
   "source": [
    "\n"
   ]
  },
  {
   "cell_type": "markdown",
   "metadata": {},
   "source": [
    "<details>\n",
    "    <summary><strong>Activity 02 Solution ✅</strong></summary>\n",
    "    \n",
    "```python\n",
    "# Include this line to make plots interactive\n",
    "%matplotlib notebook\n",
    "\n",
    "# Dependencies\n",
    "import matplotlib.pyplot as plt\n",
    "import numpy as np\n",
    "\n",
    "# Create an array for the x axis for the numerical value of each month \n",
    "x_axis = np.arange(1,13,1)\n",
    "x_axis\n",
    "\n",
    "# Avearge high temperature for each month\n",
    "highs = [39, 42, 51, 62, 72, 82, 86, 84, 77, 65, 55, 44]\n",
    "\n",
    "# Avearge low temperature for each month\n",
    "lows = [20, 22, 30, 40, 50, 60, 65, 63, 55, 42, 34, 25]\n",
    "\n",
    "# Plot both of these lines so that they will appear on our final chart.\n",
    "plt.plot(x_axis, lows)\n",
    "plt.plot(x_axis, highs)\n",
    "\n",
    "# Create labels for the X and Y axis\n",
    "plt.xlabel(\"Months\")\n",
    "plt.ylabel(\"Degrees (°F)\")\n",
    "\n",
    "# Save and display the chart\n",
    "plt.savefig(\"avg_temp.png\")\n",
    "plt.show()\n",
    "\n",
    "\n",
    "```\n",
    "</details>"
   ]
  },
  {
   "cell_type": "markdown",
   "metadata": {},
   "source": [
    "# Instructor Turn - 03- Bar Charts - 👩‍🏫🧑‍🏫"
   ]
  },
  {
   "cell_type": "code",
   "execution_count": null,
   "metadata": {},
   "outputs": [],
   "source": [
    "%matplotlib notebook\n",
    "\n",
    "import matplotlib.pyplot as plt\n",
    "import numpy as np\n",
    "\n",
    "# Create an array that contains the number of users each language has\n",
    "users = [13000, 26000, 52000, 30000, 9000]\n",
    "x_axis = np.arange(len(users))\n",
    "\n",
    "#Add lables for the bars\n",
    "tick_location = list(x_axis)\n",
    "plt.xticks(tick_location, [\"Java\", \"C++\", \"Python\", \"Ruby\", \"Clojure\"])\n",
    "\n",
    "#Set the limit for the x axis of the current chart\n",
    "plt.xlim(-0.75, len(x_axis)-0.25)\n",
    "plt.ylim(0, max(users) + 5000)\n",
    "\n",
    "# Tell matplotlib that we will be making a bar chart\n",
    "# Users is our y axis and x_axis is, of course, our x axis\n",
    "# We apply align=\"edge\" to ensure our bars line up with our tick marks\n",
    "plt.bar(x_axis, users, color='r', alpha=0.5, align=\"center\")\n",
    "plt.title(\"Popular Programming Languages\")\n",
    "plt.xlabel(\"Programming Language\")\n",
    "plt.ylabel(\"Number of Users\")\n"
   ]
  },
  {
   "cell_type": "markdown",
   "metadata": {},
   "source": [
    "# Student Turn - 04 - PyBars - 👩‍🎓👨‍🎓"
   ]
  },
  {
   "cell_type": "markdown",
   "metadata": {},
   "source": [
    "# Bars Bar Chart\n",
    "\n",
    "### Instructions\n",
    "\n",
    "* Using the cells provided as a starter, create a bar chart that matches the image provided."
   ]
  },
  {
   "cell_type": "code",
   "execution_count": null,
   "metadata": {},
   "outputs": [],
   "source": [
    "%matplotlib notebook"
   ]
  },
  {
   "cell_type": "code",
   "execution_count": null,
   "metadata": {},
   "outputs": [],
   "source": [
    "import matplotlib.pyplot as plt\n",
    "import numpy as np"
   ]
  },
  {
   "cell_type": "code",
   "execution_count": null,
   "metadata": {},
   "outputs": [],
   "source": [
    "cities = [\"New Orleans\", \"Milwaukee\", \"Omaha\", \"Pittsburgh\", \"Toledo\"]\n",
    "bars_in_cities = [8.6, 8.5, 8.3, 7.9, 7.2]\n",
    "x_axis = np.arange(len(bars_in_cities))"
   ]
  },
  {
   "cell_type": "code",
   "execution_count": null,
   "metadata": {
    "scrolled": true
   },
   "outputs": [],
   "source": [
    "# Create a bar chart based upon the above data\n",
    "plt.bar(x_axis, bars_in_cities, color='r', alpha=0.4, align=\"center\" )"
   ]
  },
  {
   "cell_type": "code",
   "execution_count": null,
   "metadata": {},
   "outputs": [],
   "source": [
    "# Create the ticks for our bar chart's x axis\n",
    "tick_location = list(x_axis)\n",
    "plt.xticks(tick_location, cities)\n"
   ]
  },
  {
   "cell_type": "code",
   "execution_count": null,
   "metadata": {},
   "outputs": [],
   "source": [
    "# Set the limits of the x axis\n",
    "plt.xlim(-0.75, len(x_axis)-0.25)"
   ]
  },
  {
   "cell_type": "code",
   "execution_count": null,
   "metadata": {},
   "outputs": [],
   "source": [
    "# Set the limits of the y axis\n",
    "plt.ylim(0, max(bars_in_cities) + 2)"
   ]
  },
  {
   "cell_type": "code",
   "execution_count": null,
   "metadata": {},
   "outputs": [],
   "source": [
    "# Give the chart a title, x label, and y label\n",
    "plt.title(\"Density of Bars in Cities\")\n",
    "plt.xlabel(\"Cities\")\n",
    "plt.ylabel(\"Bar Density\")"
   ]
  },
  {
   "cell_type": "code",
   "execution_count": null,
   "metadata": {},
   "outputs": [],
   "source": [
    "# Save an image of the chart and print it to the screen\n",
    "plt.savefig(\"./output/BarDensity.png\")\n",
    "plt.show()"
   ]
  },
  {
   "cell_type": "markdown",
   "metadata": {},
   "source": [
    "<details>\n",
    "    <summary><strong>Activity 04 Solution ✅</strong></summary>\n",
    "    \n",
    "```python\n",
    "%matplotlib notebook\n",
    "\n",
    "import matplotlib.pyplot as plt\n",
    "import numpy as np\n",
    "\n",
    "cities = [\"New Orleans\", \"Milwaukee\", \"Omaha\", \"Pittsburgh\", \"Toledo\"]\n",
    "bars_in_cities = [8.6, 8.5, 8.3, 7.9, 7.2]\n",
    "x_axis = np.arange(len(bars_in_cities))\n",
    "\n",
    "# Create a bar chart based upon the above data\n",
    "plt.bar(x_axis, bars_in_cities, color=\"b\", align=\"center\")\n",
    "\n",
    "# Create the ticks for our bar chart's x axis\n",
    "tick_locations = [value for value in x_axis]\n",
    "plt.xticks(tick_locations, cities)\n",
    "\n",
    "# Set the limits of the x axis\n",
    "plt.xlim(-0.75, len(x_axis)-0.25)\n",
    "\n",
    "# Set the limits of the y axis\n",
    "plt.ylim(0, max(bars_in_cities)+0.4)\n",
    "\n",
    "# Give the chart a title, x label, and y label\n",
    "plt.title(\"Density of Bars in Cities\")\n",
    "plt.xlabel(\"Cities\")\n",
    "plt.ylabel(\"Bars Per 10,000 Households\")\n",
    "\n",
    "# Save an image of the chart and print it to the screen\n",
    "plt.savefig(\"./BarDensity.png\")\n",
    "plt.show()\n",
    "```\n",
    "</details>\n"
   ]
  },
  {
   "cell_type": "markdown",
   "metadata": {},
   "source": [
    "# Instructor Turn - 05 - Pie Charts - 👩‍🏫🧑‍🏫"
   ]
  },
  {
   "cell_type": "code",
   "execution_count": null,
   "metadata": {},
   "outputs": [],
   "source": [
    "%matplotlib notebook\n",
    "\n",
    "# Import our dependencies\n",
    "import matplotlib.pyplot as plt\n",
    "import numpy as np\n",
    "\n",
    "# Labels for the sections of our pie chart\n",
    "labels = [\"Humans\", \"Smurfs\", \"Hobbits\", \"Ninjas\"]\n",
    "\n",
    "# The values of each section of the pie chart\n",
    "sizes = [220, 95, 80, 100]\n",
    "\n",
    "# The colors of each section of the pie chart\n",
    "colors = [\"red\", \"orange\", \"lightcoral\", \"lightskyblue\"]\n",
    "\n",
    "# Tells matplotlib to seperate the \"Humans\" section from the others\n",
    "explode = (0.1, 0, 0, 0)\n"
   ]
  },
  {
   "cell_type": "code",
   "execution_count": null,
   "metadata": {},
   "outputs": [],
   "source": [
    "# Creates the pie chart based upon the values above\n",
    "# Automatically finds the percentages of each part of the pie chart\n",
    "plt.pie(sizes, explode=explode, labels=labels, colors=colors,\n",
    "        autopct=\"%1.1f%%\", shadow=True, startangle=140)"
   ]
  },
  {
   "cell_type": "code",
   "execution_count": null,
   "metadata": {},
   "outputs": [],
   "source": [
    "# Tells matplotlib that we want a pie chart with equal axes\n",
    "plt.axis(\"equal\")"
   ]
  },
  {
   "cell_type": "markdown",
   "metadata": {},
   "source": [
    "#  Student Turn  - 06 - PyPies - 👩‍🎓👨‍🎓"
   ]
  },
  {
   "cell_type": "markdown",
   "metadata": {},
   "source": [
    "# Pies Pie Chart\n",
    "\n",
    "### Instructions\n",
    "\n",
    "* Using the cells provided as a starter, create a pie chart that matches the image provided.\n"
   ]
  },
  {
   "cell_type": "code",
   "execution_count": null,
   "metadata": {},
   "outputs": [],
   "source": [
    "%matplotlib notebook"
   ]
  },
  {
   "cell_type": "code",
   "execution_count": null,
   "metadata": {},
   "outputs": [],
   "source": [
    "import matplotlib.pyplot as plt\n",
    "import numpy as np"
   ]
  },
  {
   "cell_type": "code",
   "execution_count": null,
   "metadata": {},
   "outputs": [],
   "source": [
    "pies = [\"Apple\", \"Pumpkin\", \"Chocolate Creme\", \"Cherry\", \"Apple Crumb\",\n",
    "        \"Pecan\", \"Lemon Meringue\", \"Blueberry\", \"Key Lime\", \"Peach\"]\n",
    "pie_votes = [47, 37, 32, 27, 25, 24, 24, 21, 18, 16]\n",
    "colors = [\"yellow\", \"green\", \"lightblue\", \"orange\", \"red\",\n",
    "          \"purple\", \"pink\", \"yellowgreen\", \"lightskyblue\", \"lightcoral\"]\n",
    "explode = (0.1, 0, 0, 0, 0, 0, 0, 0, 0, 0)"
   ]
  },
  {
   "cell_type": "code",
   "execution_count": null,
   "metadata": {},
   "outputs": [],
   "source": [
    "# Tell matplotlib to create a pie chart based upon the above data\n",
    "plt.pie(pie_votes, explode=explode, labels=pies, colors=colors,\n",
    "       autopct=\"%1.1f%%\", shadow=True, startangle=140)\n",
    "\n",
    "# Create axes which are equal so we have a perfect circle\n",
    "plt.axis(\"equal\")\n",
    "\n",
    "# Save an image of our chart and print the final product to the screen\n",
    "plt.savefig(\"./output/PyPies.png\")\n",
    "plt.show()"
   ]
  },
  {
   "cell_type": "markdown",
   "metadata": {},
   "source": [
    "<details>\n",
    "    <summary><strong>Activity 06 Solution ✅</strong></summary>\n",
    "    \n",
    "```python\n",
    "%matplotlib notebook\n",
    "\n",
    "import matplotlib.pyplot as plt\n",
    "import numpy as np\n",
    "\n",
    "pies = [\"Apple\", \"Pumpkin\", \"Chocolate Creme\", \"Cherry\", \"Apple Crumb\", \"Pecan\", \"Lemon Meringue\", \"Blueberry\", \"Key Lime\", \"Peach\"]\n",
    "pie_votes = [47,37,32,27,25,24,24,21,18,16]\n",
    "colors = [\"yellow\",\"green\",\"lightblue\",\"orange\",\"red\",\"purple\",\"pink\",\"yellowgreen\",\"lightskyblue\",\"lightcoral\"]\n",
    "explode = (0.1,0,0,0,0,0,0,0,0,0)\n",
    "\n",
    "# Tell matplotlib to create a pie chart based upon the above data\n",
    "plt.pie(pie_votes, explode=explode, labels=pies, colors=colors,\n",
    "        autopct=\"%1.1f%%\", shadow=True, startangle=140)\n",
    "# Create axes which are equal so we have a perfect circle\n",
    "plt.axis(\"equal\")\n",
    "# Save an image of our chart and print the final product to the screen\n",
    "plt.savefig(\"./PyPies.png\")\n",
    "plt.show()\n",
    "```\n",
    "</details>\n"
   ]
  },
  {
   "cell_type": "markdown",
   "metadata": {},
   "source": [
    "# Instructor Turn - 07 - Scatter Plots - 👩‍🏫🧑‍🏫"
   ]
  },
  {
   "cell_type": "code",
   "execution_count": null,
   "metadata": {},
   "outputs": [],
   "source": [
    "%matplotlib notebook"
   ]
  },
  {
   "cell_type": "code",
   "execution_count": null,
   "metadata": {},
   "outputs": [],
   "source": [
    "# Import Dependencies\n",
    "import random\n",
    "import matplotlib.pyplot as plt\n",
    "import numpy as np"
   ]
  },
  {
   "cell_type": "code",
   "execution_count": null,
   "metadata": {},
   "outputs": [],
   "source": [
    "# The maximum x value for our chart will be 100\n",
    "x_limit = 100\n",
    "\n",
    "# List of values from 0 to 100 each value being 1 greater than the last\n",
    "x_axis = np.arange(0, x_limit, 1)\n",
    "\n",
    "# Create a random array of data that we will use for our y values\n",
    "data = [random.random() for value in x_axis]"
   ]
  },
  {
   "cell_type": "code",
   "execution_count": null,
   "metadata": {},
   "outputs": [],
   "source": [
    "# Tells matplotlib that we want to make a scatter plot\n",
    "# The size of each point on our plot is determined by their x value\n",
    "plt.scatter(x_axis, data, marker=\"o\", facecolors=\"red\", edgecolors=\"black\",\n",
    "            s=x_axis, alpha=0.75)\n",
    "\n",
    "# You can also change markers and use \"*,^\""
   ]
  },
  {
   "cell_type": "code",
   "execution_count": null,
   "metadata": {},
   "outputs": [],
   "source": [
    "# The y limits of our scatter plot is 0 to 1\n",
    "plt.ylim(0, 1)"
   ]
  },
  {
   "cell_type": "code",
   "execution_count": null,
   "metadata": {},
   "outputs": [],
   "source": [
    "# The x limits of our scatter plot is 0 to 100\n",
    "plt.xlim(0, x_limit)"
   ]
  },
  {
   "cell_type": "code",
   "execution_count": null,
   "metadata": {},
   "outputs": [],
   "source": [
    "# Prints the scatter plot to the screen\n",
    "plt.show()"
   ]
  },
  {
   "cell_type": "markdown",
   "metadata": {},
   "source": [
    "# Student Turn - 08  - ScatterPy - 👩‍🎓👨‍🎓"
   ]
  },
  {
   "cell_type": "markdown",
   "metadata": {},
   "source": [
    "# Scatter Py\n",
    "\n",
    "### Instructions\n",
    "\n",
    "* Using the cells below provided as a starter, create a scatter plot that matches the image provided.\n",
    "\n",
    "### BONUS\n",
    "\n",
    "* Create a new list called \"scoop_price\", fill it with values, and then set it so that the size of the dots are set according to those values.\n"
   ]
  },
  {
   "cell_type": "code",
   "execution_count": 14,
   "metadata": {},
   "outputs": [],
   "source": [
    "%matplotlib notebook"
   ]
  },
  {
   "cell_type": "code",
   "execution_count": 15,
   "metadata": {},
   "outputs": [],
   "source": [
    "import matplotlib.pyplot as plt\n",
    "import numpy as np"
   ]
  },
  {
   "cell_type": "code",
   "execution_count": 16,
   "metadata": {},
   "outputs": [],
   "source": [
    "temp = [14.2, 16.4, 11.9, 15.2, 18.5, 22.1, 19.4, 25.1, 23.4, 18.1, 22.6, 17.2]\n",
    "sales = [215, 325, 185, 332, 406, 522, 412, 614, 544, 421, 445, 408]\n",
    "scoop_price = [89, 18, 10, 28, 79, 46, 29, 38, 89, 26, 45, 62]"
   ]
  },
  {
   "cell_type": "code",
   "execution_count": 17,
   "metadata": {},
   "outputs": [
    {
     "data": {
      "application/javascript": "/* Put everything inside the global mpl namespace */\nwindow.mpl = {};\n\n\nmpl.get_websocket_type = function() {\n    if (typeof(WebSocket) !== 'undefined') {\n        return WebSocket;\n    } else if (typeof(MozWebSocket) !== 'undefined') {\n        return MozWebSocket;\n    } else {\n        alert('Your browser does not have WebSocket support. ' +\n              'Please try Chrome, Safari or Firefox ≥ 6. ' +\n              'Firefox 4 and 5 are also supported but you ' +\n              'have to enable WebSockets in about:config.');\n    };\n}\n\nmpl.figure = function(figure_id, websocket, ondownload, parent_element) {\n    this.id = figure_id;\n\n    this.ws = websocket;\n\n    this.supports_binary = (this.ws.binaryType != undefined);\n\n    if (!this.supports_binary) {\n        var warnings = document.getElementById(\"mpl-warnings\");\n        if (warnings) {\n            warnings.style.display = 'block';\n            warnings.textContent = (\n                \"This browser does not support binary websocket messages. \" +\n                    \"Performance may be slow.\");\n        }\n    }\n\n    this.imageObj = new Image();\n\n    this.context = undefined;\n    this.message = undefined;\n    this.canvas = undefined;\n    this.rubberband_canvas = undefined;\n    this.rubberband_context = undefined;\n    this.format_dropdown = undefined;\n\n    this.image_mode = 'full';\n\n    this.root = $('<div/>');\n    this._root_extra_style(this.root)\n    this.root.attr('style', 'display: inline-block');\n\n    $(parent_element).append(this.root);\n\n    this._init_header(this);\n    this._init_canvas(this);\n    this._init_toolbar(this);\n\n    var fig = this;\n\n    this.waiting = false;\n\n    this.ws.onopen =  function () {\n            fig.send_message(\"supports_binary\", {value: fig.supports_binary});\n            fig.send_message(\"send_image_mode\", {});\n            if (mpl.ratio != 1) {\n                fig.send_message(\"set_dpi_ratio\", {'dpi_ratio': mpl.ratio});\n            }\n            fig.send_message(\"refresh\", {});\n        }\n\n    this.imageObj.onload = function() {\n            if (fig.image_mode == 'full') {\n                // Full images could contain transparency (where diff images\n                // almost always do), so we need to clear the canvas so that\n                // there is no ghosting.\n                fig.context.clearRect(0, 0, fig.canvas.width, fig.canvas.height);\n            }\n            fig.context.drawImage(fig.imageObj, 0, 0);\n        };\n\n    this.imageObj.onunload = function() {\n        fig.ws.close();\n    }\n\n    this.ws.onmessage = this._make_on_message_function(this);\n\n    this.ondownload = ondownload;\n}\n\nmpl.figure.prototype._init_header = function() {\n    var titlebar = $(\n        '<div class=\"ui-dialog-titlebar ui-widget-header ui-corner-all ' +\n        'ui-helper-clearfix\"/>');\n    var titletext = $(\n        '<div class=\"ui-dialog-title\" style=\"width: 100%; ' +\n        'text-align: center; padding: 3px;\"/>');\n    titlebar.append(titletext)\n    this.root.append(titlebar);\n    this.header = titletext[0];\n}\n\n\n\nmpl.figure.prototype._canvas_extra_style = function(canvas_div) {\n\n}\n\n\nmpl.figure.prototype._root_extra_style = function(canvas_div) {\n\n}\n\nmpl.figure.prototype._init_canvas = function() {\n    var fig = this;\n\n    var canvas_div = $('<div/>');\n\n    canvas_div.attr('style', 'position: relative; clear: both; outline: 0');\n\n    function canvas_keyboard_event(event) {\n        return fig.key_event(event, event['data']);\n    }\n\n    canvas_div.keydown('key_press', canvas_keyboard_event);\n    canvas_div.keyup('key_release', canvas_keyboard_event);\n    this.canvas_div = canvas_div\n    this._canvas_extra_style(canvas_div)\n    this.root.append(canvas_div);\n\n    var canvas = $('<canvas/>');\n    canvas.addClass('mpl-canvas');\n    canvas.attr('style', \"left: 0; top: 0; z-index: 0; outline: 0\")\n\n    this.canvas = canvas[0];\n    this.context = canvas[0].getContext(\"2d\");\n\n    var backingStore = this.context.backingStorePixelRatio ||\n\tthis.context.webkitBackingStorePixelRatio ||\n\tthis.context.mozBackingStorePixelRatio ||\n\tthis.context.msBackingStorePixelRatio ||\n\tthis.context.oBackingStorePixelRatio ||\n\tthis.context.backingStorePixelRatio || 1;\n\n    mpl.ratio = (window.devicePixelRatio || 1) / backingStore;\n\n    var rubberband = $('<canvas/>');\n    rubberband.attr('style', \"position: absolute; left: 0; top: 0; z-index: 1;\")\n\n    var pass_mouse_events = true;\n\n    canvas_div.resizable({\n        start: function(event, ui) {\n            pass_mouse_events = false;\n        },\n        resize: function(event, ui) {\n            fig.request_resize(ui.size.width, ui.size.height);\n        },\n        stop: function(event, ui) {\n            pass_mouse_events = true;\n            fig.request_resize(ui.size.width, ui.size.height);\n        },\n    });\n\n    function mouse_event_fn(event) {\n        if (pass_mouse_events)\n            return fig.mouse_event(event, event['data']);\n    }\n\n    rubberband.mousedown('button_press', mouse_event_fn);\n    rubberband.mouseup('button_release', mouse_event_fn);\n    // Throttle sequential mouse events to 1 every 20ms.\n    rubberband.mousemove('motion_notify', mouse_event_fn);\n\n    rubberband.mouseenter('figure_enter', mouse_event_fn);\n    rubberband.mouseleave('figure_leave', mouse_event_fn);\n\n    canvas_div.on(\"wheel\", function (event) {\n        event = event.originalEvent;\n        event['data'] = 'scroll'\n        if (event.deltaY < 0) {\n            event.step = 1;\n        } else {\n            event.step = -1;\n        }\n        mouse_event_fn(event);\n    });\n\n    canvas_div.append(canvas);\n    canvas_div.append(rubberband);\n\n    this.rubberband = rubberband;\n    this.rubberband_canvas = rubberband[0];\n    this.rubberband_context = rubberband[0].getContext(\"2d\");\n    this.rubberband_context.strokeStyle = \"#000000\";\n\n    this._resize_canvas = function(width, height) {\n        // Keep the size of the canvas, canvas container, and rubber band\n        // canvas in synch.\n        canvas_div.css('width', width)\n        canvas_div.css('height', height)\n\n        canvas.attr('width', width * mpl.ratio);\n        canvas.attr('height', height * mpl.ratio);\n        canvas.attr('style', 'width: ' + width + 'px; height: ' + height + 'px;');\n\n        rubberband.attr('width', width);\n        rubberband.attr('height', height);\n    }\n\n    // Set the figure to an initial 600x600px, this will subsequently be updated\n    // upon first draw.\n    this._resize_canvas(600, 600);\n\n    // Disable right mouse context menu.\n    $(this.rubberband_canvas).bind(\"contextmenu\",function(e){\n        return false;\n    });\n\n    function set_focus () {\n        canvas.focus();\n        canvas_div.focus();\n    }\n\n    window.setTimeout(set_focus, 100);\n}\n\nmpl.figure.prototype._init_toolbar = function() {\n    var fig = this;\n\n    var nav_element = $('<div/>');\n    nav_element.attr('style', 'width: 100%');\n    this.root.append(nav_element);\n\n    // Define a callback function for later on.\n    function toolbar_event(event) {\n        return fig.toolbar_button_onclick(event['data']);\n    }\n    function toolbar_mouse_event(event) {\n        return fig.toolbar_button_onmouseover(event['data']);\n    }\n\n    for(var toolbar_ind in mpl.toolbar_items) {\n        var name = mpl.toolbar_items[toolbar_ind][0];\n        var tooltip = mpl.toolbar_items[toolbar_ind][1];\n        var image = mpl.toolbar_items[toolbar_ind][2];\n        var method_name = mpl.toolbar_items[toolbar_ind][3];\n\n        if (!name) {\n            // put a spacer in here.\n            continue;\n        }\n        var button = $('<button/>');\n        button.addClass('ui-button ui-widget ui-state-default ui-corner-all ' +\n                        'ui-button-icon-only');\n        button.attr('role', 'button');\n        button.attr('aria-disabled', 'false');\n        button.click(method_name, toolbar_event);\n        button.mouseover(tooltip, toolbar_mouse_event);\n\n        var icon_img = $('<span/>');\n        icon_img.addClass('ui-button-icon-primary ui-icon');\n        icon_img.addClass(image);\n        icon_img.addClass('ui-corner-all');\n\n        var tooltip_span = $('<span/>');\n        tooltip_span.addClass('ui-button-text');\n        tooltip_span.html(tooltip);\n\n        button.append(icon_img);\n        button.append(tooltip_span);\n\n        nav_element.append(button);\n    }\n\n    var fmt_picker_span = $('<span/>');\n\n    var fmt_picker = $('<select/>');\n    fmt_picker.addClass('mpl-toolbar-option ui-widget ui-widget-content');\n    fmt_picker_span.append(fmt_picker);\n    nav_element.append(fmt_picker_span);\n    this.format_dropdown = fmt_picker[0];\n\n    for (var ind in mpl.extensions) {\n        var fmt = mpl.extensions[ind];\n        var option = $(\n            '<option/>', {selected: fmt === mpl.default_extension}).html(fmt);\n        fmt_picker.append(option);\n    }\n\n    // Add hover states to the ui-buttons\n    $( \".ui-button\" ).hover(\n        function() { $(this).addClass(\"ui-state-hover\");},\n        function() { $(this).removeClass(\"ui-state-hover\");}\n    );\n\n    var status_bar = $('<span class=\"mpl-message\"/>');\n    nav_element.append(status_bar);\n    this.message = status_bar[0];\n}\n\nmpl.figure.prototype.request_resize = function(x_pixels, y_pixels) {\n    // Request matplotlib to resize the figure. Matplotlib will then trigger a resize in the client,\n    // which will in turn request a refresh of the image.\n    this.send_message('resize', {'width': x_pixels, 'height': y_pixels});\n}\n\nmpl.figure.prototype.send_message = function(type, properties) {\n    properties['type'] = type;\n    properties['figure_id'] = this.id;\n    this.ws.send(JSON.stringify(properties));\n}\n\nmpl.figure.prototype.send_draw_message = function() {\n    if (!this.waiting) {\n        this.waiting = true;\n        this.ws.send(JSON.stringify({type: \"draw\", figure_id: this.id}));\n    }\n}\n\n\nmpl.figure.prototype.handle_save = function(fig, msg) {\n    var format_dropdown = fig.format_dropdown;\n    var format = format_dropdown.options[format_dropdown.selectedIndex].value;\n    fig.ondownload(fig, format);\n}\n\n\nmpl.figure.prototype.handle_resize = function(fig, msg) {\n    var size = msg['size'];\n    if (size[0] != fig.canvas.width || size[1] != fig.canvas.height) {\n        fig._resize_canvas(size[0], size[1]);\n        fig.send_message(\"refresh\", {});\n    };\n}\n\nmpl.figure.prototype.handle_rubberband = function(fig, msg) {\n    var x0 = msg['x0'] / mpl.ratio;\n    var y0 = (fig.canvas.height - msg['y0']) / mpl.ratio;\n    var x1 = msg['x1'] / mpl.ratio;\n    var y1 = (fig.canvas.height - msg['y1']) / mpl.ratio;\n    x0 = Math.floor(x0) + 0.5;\n    y0 = Math.floor(y0) + 0.5;\n    x1 = Math.floor(x1) + 0.5;\n    y1 = Math.floor(y1) + 0.5;\n    var min_x = Math.min(x0, x1);\n    var min_y = Math.min(y0, y1);\n    var width = Math.abs(x1 - x0);\n    var height = Math.abs(y1 - y0);\n\n    fig.rubberband_context.clearRect(\n        0, 0, fig.canvas.width / mpl.ratio, fig.canvas.height / mpl.ratio);\n\n    fig.rubberband_context.strokeRect(min_x, min_y, width, height);\n}\n\nmpl.figure.prototype.handle_figure_label = function(fig, msg) {\n    // Updates the figure title.\n    fig.header.textContent = msg['label'];\n}\n\nmpl.figure.prototype.handle_cursor = function(fig, msg) {\n    var cursor = msg['cursor'];\n    switch(cursor)\n    {\n    case 0:\n        cursor = 'pointer';\n        break;\n    case 1:\n        cursor = 'default';\n        break;\n    case 2:\n        cursor = 'crosshair';\n        break;\n    case 3:\n        cursor = 'move';\n        break;\n    }\n    fig.rubberband_canvas.style.cursor = cursor;\n}\n\nmpl.figure.prototype.handle_message = function(fig, msg) {\n    fig.message.textContent = msg['message'];\n}\n\nmpl.figure.prototype.handle_draw = function(fig, msg) {\n    // Request the server to send over a new figure.\n    fig.send_draw_message();\n}\n\nmpl.figure.prototype.handle_image_mode = function(fig, msg) {\n    fig.image_mode = msg['mode'];\n}\n\nmpl.figure.prototype.updated_canvas_event = function() {\n    // Called whenever the canvas gets updated.\n    this.send_message(\"ack\", {});\n}\n\n// A function to construct a web socket function for onmessage handling.\n// Called in the figure constructor.\nmpl.figure.prototype._make_on_message_function = function(fig) {\n    return function socket_on_message(evt) {\n        if (evt.data instanceof Blob) {\n            /* FIXME: We get \"Resource interpreted as Image but\n             * transferred with MIME type text/plain:\" errors on\n             * Chrome.  But how to set the MIME type?  It doesn't seem\n             * to be part of the websocket stream */\n            evt.data.type = \"image/png\";\n\n            /* Free the memory for the previous frames */\n            if (fig.imageObj.src) {\n                (window.URL || window.webkitURL).revokeObjectURL(\n                    fig.imageObj.src);\n            }\n\n            fig.imageObj.src = (window.URL || window.webkitURL).createObjectURL(\n                evt.data);\n            fig.updated_canvas_event();\n            fig.waiting = false;\n            return;\n        }\n        else if (typeof evt.data === 'string' && evt.data.slice(0, 21) == \"data:image/png;base64\") {\n            fig.imageObj.src = evt.data;\n            fig.updated_canvas_event();\n            fig.waiting = false;\n            return;\n        }\n\n        var msg = JSON.parse(evt.data);\n        var msg_type = msg['type'];\n\n        // Call the  \"handle_{type}\" callback, which takes\n        // the figure and JSON message as its only arguments.\n        try {\n            var callback = fig[\"handle_\" + msg_type];\n        } catch (e) {\n            console.log(\"No handler for the '\" + msg_type + \"' message type: \", msg);\n            return;\n        }\n\n        if (callback) {\n            try {\n                // console.log(\"Handling '\" + msg_type + \"' message: \", msg);\n                callback(fig, msg);\n            } catch (e) {\n                console.log(\"Exception inside the 'handler_\" + msg_type + \"' callback:\", e, e.stack, msg);\n            }\n        }\n    };\n}\n\n// from http://stackoverflow.com/questions/1114465/getting-mouse-location-in-canvas\nmpl.findpos = function(e) {\n    //this section is from http://www.quirksmode.org/js/events_properties.html\n    var targ;\n    if (!e)\n        e = window.event;\n    if (e.target)\n        targ = e.target;\n    else if (e.srcElement)\n        targ = e.srcElement;\n    if (targ.nodeType == 3) // defeat Safari bug\n        targ = targ.parentNode;\n\n    // jQuery normalizes the pageX and pageY\n    // pageX,Y are the mouse positions relative to the document\n    // offset() returns the position of the element relative to the document\n    var x = e.pageX - $(targ).offset().left;\n    var y = e.pageY - $(targ).offset().top;\n\n    return {\"x\": x, \"y\": y};\n};\n\n/*\n * return a copy of an object with only non-object keys\n * we need this to avoid circular references\n * http://stackoverflow.com/a/24161582/3208463\n */\nfunction simpleKeys (original) {\n  return Object.keys(original).reduce(function (obj, key) {\n    if (typeof original[key] !== 'object')\n        obj[key] = original[key]\n    return obj;\n  }, {});\n}\n\nmpl.figure.prototype.mouse_event = function(event, name) {\n    var canvas_pos = mpl.findpos(event)\n\n    if (name === 'button_press')\n    {\n        this.canvas.focus();\n        this.canvas_div.focus();\n    }\n\n    var x = canvas_pos.x * mpl.ratio;\n    var y = canvas_pos.y * mpl.ratio;\n\n    this.send_message(name, {x: x, y: y, button: event.button,\n                             step: event.step,\n                             guiEvent: simpleKeys(event)});\n\n    /* This prevents the web browser from automatically changing to\n     * the text insertion cursor when the button is pressed.  We want\n     * to control all of the cursor setting manually through the\n     * 'cursor' event from matplotlib */\n    event.preventDefault();\n    return false;\n}\n\nmpl.figure.prototype._key_event_extra = function(event, name) {\n    // Handle any extra behaviour associated with a key event\n}\n\nmpl.figure.prototype.key_event = function(event, name) {\n\n    // Prevent repeat events\n    if (name == 'key_press')\n    {\n        if (event.which === this._key)\n            return;\n        else\n            this._key = event.which;\n    }\n    if (name == 'key_release')\n        this._key = null;\n\n    var value = '';\n    if (event.ctrlKey && event.which != 17)\n        value += \"ctrl+\";\n    if (event.altKey && event.which != 18)\n        value += \"alt+\";\n    if (event.shiftKey && event.which != 16)\n        value += \"shift+\";\n\n    value += 'k';\n    value += event.which.toString();\n\n    this._key_event_extra(event, name);\n\n    this.send_message(name, {key: value,\n                             guiEvent: simpleKeys(event)});\n    return false;\n}\n\nmpl.figure.prototype.toolbar_button_onclick = function(name) {\n    if (name == 'download') {\n        this.handle_save(this, null);\n    } else {\n        this.send_message(\"toolbar_button\", {name: name});\n    }\n};\n\nmpl.figure.prototype.toolbar_button_onmouseover = function(tooltip) {\n    this.message.textContent = tooltip;\n};\nmpl.toolbar_items = [[\"Home\", \"Reset original view\", \"fa fa-home icon-home\", \"home\"], [\"Back\", \"Back to previous view\", \"fa fa-arrow-left icon-arrow-left\", \"back\"], [\"Forward\", \"Forward to next view\", \"fa fa-arrow-right icon-arrow-right\", \"forward\"], [\"\", \"\", \"\", \"\"], [\"Pan\", \"Pan axes with left mouse, zoom with right\", \"fa fa-arrows icon-move\", \"pan\"], [\"Zoom\", \"Zoom to rectangle\", \"fa fa-square-o icon-check-empty\", \"zoom\"], [\"\", \"\", \"\", \"\"], [\"Download\", \"Download plot\", \"fa fa-floppy-o icon-save\", \"download\"]];\n\nmpl.extensions = [\"eps\", \"jpeg\", \"pdf\", \"png\", \"ps\", \"raw\", \"svg\", \"tif\"];\n\nmpl.default_extension = \"png\";var comm_websocket_adapter = function(comm) {\n    // Create a \"websocket\"-like object which calls the given IPython comm\n    // object with the appropriate methods. Currently this is a non binary\n    // socket, so there is still some room for performance tuning.\n    var ws = {};\n\n    ws.close = function() {\n        comm.close()\n    };\n    ws.send = function(m) {\n        //console.log('sending', m);\n        comm.send(m);\n    };\n    // Register the callback with on_msg.\n    comm.on_msg(function(msg) {\n        //console.log('receiving', msg['content']['data'], msg);\n        // Pass the mpl event to the overridden (by mpl) onmessage function.\n        ws.onmessage(msg['content']['data'])\n    });\n    return ws;\n}\n\nmpl.mpl_figure_comm = function(comm, msg) {\n    // This is the function which gets called when the mpl process\n    // starts-up an IPython Comm through the \"matplotlib\" channel.\n\n    var id = msg.content.data.id;\n    // Get hold of the div created by the display call when the Comm\n    // socket was opened in Python.\n    var element = $(\"#\" + id);\n    var ws_proxy = comm_websocket_adapter(comm)\n\n    function ondownload(figure, format) {\n        window.open(figure.imageObj.src);\n    }\n\n    var fig = new mpl.figure(id, ws_proxy,\n                           ondownload,\n                           element.get(0));\n\n    // Call onopen now - mpl needs it, as it is assuming we've passed it a real\n    // web socket which is closed, not our websocket->open comm proxy.\n    ws_proxy.onopen();\n\n    fig.parent_element = element.get(0);\n    fig.cell_info = mpl.find_output_cell(\"<div id='\" + id + \"'></div>\");\n    if (!fig.cell_info) {\n        console.error(\"Failed to find cell for figure\", id, fig);\n        return;\n    }\n\n    var output_index = fig.cell_info[2]\n    var cell = fig.cell_info[0];\n\n};\n\nmpl.figure.prototype.handle_close = function(fig, msg) {\n    var width = fig.canvas.width/mpl.ratio\n    fig.root.unbind('remove')\n\n    // Update the output cell to use the data from the current canvas.\n    fig.push_to_output();\n    var dataURL = fig.canvas.toDataURL();\n    // Re-enable the keyboard manager in IPython - without this line, in FF,\n    // the notebook keyboard shortcuts fail.\n    IPython.keyboard_manager.enable()\n    $(fig.parent_element).html('<img src=\"' + dataURL + '\" width=\"' + width + '\">');\n    fig.close_ws(fig, msg);\n}\n\nmpl.figure.prototype.close_ws = function(fig, msg){\n    fig.send_message('closing', msg);\n    // fig.ws.close()\n}\n\nmpl.figure.prototype.push_to_output = function(remove_interactive) {\n    // Turn the data on the canvas into data in the output cell.\n    var width = this.canvas.width/mpl.ratio\n    var dataURL = this.canvas.toDataURL();\n    this.cell_info[1]['text/html'] = '<img src=\"' + dataURL + '\" width=\"' + width + '\">';\n}\n\nmpl.figure.prototype.updated_canvas_event = function() {\n    // Tell IPython that the notebook contents must change.\n    IPython.notebook.set_dirty(true);\n    this.send_message(\"ack\", {});\n    var fig = this;\n    // Wait a second, then push the new image to the DOM so\n    // that it is saved nicely (might be nice to debounce this).\n    setTimeout(function () { fig.push_to_output() }, 1000);\n}\n\nmpl.figure.prototype._init_toolbar = function() {\n    var fig = this;\n\n    var nav_element = $('<div/>');\n    nav_element.attr('style', 'width: 100%');\n    this.root.append(nav_element);\n\n    // Define a callback function for later on.\n    function toolbar_event(event) {\n        return fig.toolbar_button_onclick(event['data']);\n    }\n    function toolbar_mouse_event(event) {\n        return fig.toolbar_button_onmouseover(event['data']);\n    }\n\n    for(var toolbar_ind in mpl.toolbar_items){\n        var name = mpl.toolbar_items[toolbar_ind][0];\n        var tooltip = mpl.toolbar_items[toolbar_ind][1];\n        var image = mpl.toolbar_items[toolbar_ind][2];\n        var method_name = mpl.toolbar_items[toolbar_ind][3];\n\n        if (!name) { continue; };\n\n        var button = $('<button class=\"btn btn-default\" href=\"#\" title=\"' + name + '\"><i class=\"fa ' + image + ' fa-lg\"></i></button>');\n        button.click(method_name, toolbar_event);\n        button.mouseover(tooltip, toolbar_mouse_event);\n        nav_element.append(button);\n    }\n\n    // Add the status bar.\n    var status_bar = $('<span class=\"mpl-message\" style=\"text-align:right; float: right;\"/>');\n    nav_element.append(status_bar);\n    this.message = status_bar[0];\n\n    // Add the close button to the window.\n    var buttongrp = $('<div class=\"btn-group inline pull-right\"></div>');\n    var button = $('<button class=\"btn btn-mini btn-primary\" href=\"#\" title=\"Stop Interaction\"><i class=\"fa fa-power-off icon-remove icon-large\"></i></button>');\n    button.click(function (evt) { fig.handle_close(fig, {}); } );\n    button.mouseover('Stop Interaction', toolbar_mouse_event);\n    buttongrp.append(button);\n    var titlebar = this.root.find($('.ui-dialog-titlebar'));\n    titlebar.prepend(buttongrp);\n}\n\nmpl.figure.prototype._root_extra_style = function(el){\n    var fig = this\n    el.on(\"remove\", function(){\n\tfig.close_ws(fig, {});\n    });\n}\n\nmpl.figure.prototype._canvas_extra_style = function(el){\n    // this is important to make the div 'focusable\n    el.attr('tabindex', 0)\n    // reach out to IPython and tell the keyboard manager to turn it's self\n    // off when our div gets focus\n\n    // location in version 3\n    if (IPython.notebook.keyboard_manager) {\n        IPython.notebook.keyboard_manager.register_events(el);\n    }\n    else {\n        // location in version 2\n        IPython.keyboard_manager.register_events(el);\n    }\n\n}\n\nmpl.figure.prototype._key_event_extra = function(event, name) {\n    var manager = IPython.notebook.keyboard_manager;\n    if (!manager)\n        manager = IPython.keyboard_manager;\n\n    // Check for shift+enter\n    if (event.shiftKey && event.which == 13) {\n        this.canvas_div.blur();\n        // select the cell after this one\n        var index = IPython.notebook.find_cell_index(this.cell_info[0]);\n        IPython.notebook.select(index + 1);\n    }\n}\n\nmpl.figure.prototype.handle_save = function(fig, msg) {\n    fig.ondownload(fig, null);\n}\n\n\nmpl.find_output_cell = function(html_output) {\n    // Return the cell and output element which can be found *uniquely* in the notebook.\n    // Note - this is a bit hacky, but it is done because the \"notebook_saving.Notebook\"\n    // IPython event is triggered only after the cells have been serialised, which for\n    // our purposes (turning an active figure into a static one), is too late.\n    var cells = IPython.notebook.get_cells();\n    var ncells = cells.length;\n    for (var i=0; i<ncells; i++) {\n        var cell = cells[i];\n        if (cell.cell_type === 'code'){\n            for (var j=0; j<cell.output_area.outputs.length; j++) {\n                var data = cell.output_area.outputs[j];\n                if (data.data) {\n                    // IPython >= 3 moved mimebundle to data attribute of output\n                    data = data.data;\n                }\n                if (data['text/html'] == html_output) {\n                    return [cell, data, j];\n                }\n            }\n        }\n    }\n}\n\n// Register the function which deals with the matplotlib target/channel.\n// The kernel may be null if the page has been refreshed.\nif (IPython.notebook.kernel != null) {\n    IPython.notebook.kernel.comm_manager.register_target('matplotlib', mpl.mpl_figure_comm);\n}\n",
      "text/plain": [
       "<IPython.core.display.Javascript object>"
      ]
     },
     "metadata": {},
     "output_type": "display_data"
    },
    {
     "data": {
      "text/html": [
       "<img src=\"data:image/png;base64,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\" width=\"640\">"
      ],
      "text/plain": [
       "<IPython.core.display.HTML object>"
      ]
     },
     "metadata": {},
     "output_type": "display_data"
    },
    {
     "data": {
      "text/plain": [
       "<matplotlib.collections.PathCollection at 0x26be76b0f70>"
      ]
     },
     "execution_count": 17,
     "metadata": {},
     "output_type": "execute_result"
    }
   ],
   "source": [
    "# Tell matplotlib to create a scatter plot based upon the above data\n",
    "plt.scatter(temp, sales, marker=\"^\", facecolors=\"orange\", edgecolors=\"gray\",\n",
    "           s=scoop_price, alpha=0.75)"
   ]
  },
  {
   "cell_type": "code",
   "execution_count": 21,
   "metadata": {},
   "outputs": [
    {
     "data": {
      "text/plain": [
       "(100.0, 620.0)"
      ]
     },
     "execution_count": 21,
     "metadata": {},
     "output_type": "execute_result"
    }
   ],
   "source": [
    "# Set the upper and lower limits of our y axis\n",
    "plt.ylim(100, 620)"
   ]
  },
  {
   "cell_type": "code",
   "execution_count": 22,
   "metadata": {},
   "outputs": [
    {
     "data": {
      "text/plain": [
       "(11.0, 26.0)"
      ]
     },
     "execution_count": 22,
     "metadata": {},
     "output_type": "execute_result"
    }
   ],
   "source": [
    "# Set the upper and lower limits of our x axis\n",
    "plt.xlim(11, 26)"
   ]
  },
  {
   "cell_type": "code",
   "execution_count": 23,
   "metadata": {},
   "outputs": [
    {
     "data": {
      "text/plain": [
       "Text(38.097222222222214, 0.5, 'Sales (Dollars)')"
      ]
     },
     "execution_count": 23,
     "metadata": {},
     "output_type": "execute_result"
    }
   ],
   "source": [
    "# Create a title, x label, and y label for our chart\n",
    "plt.title(\"Ice Cream Sales v Temperature\")\n",
    "plt.xlabel(\"Temperature (Celsius)\")\n",
    "plt.ylabel(\"Sales (Dollars)\")"
   ]
  },
  {
   "cell_type": "code",
   "execution_count": 24,
   "metadata": {},
   "outputs": [],
   "source": [
    "# Save an image of the chart and print to screen\n",
    "# NOTE: If your plot shrinks after saving an image,\n",
    "# update matplotlib to 2.2 or higher,\n",
    "# or simply run the above cells again.\n",
    "plt.savefig(\"./output/IceCreamSales.png\")\n",
    "plt.show()"
   ]
  },
  {
   "cell_type": "code",
   "execution_count": null,
   "metadata": {},
   "outputs": [],
   "source": [
    "# BONUS: With scoop_price set to the scalar value\n",
    "scoop_price = [89, 18, 10, 28, 79, 46, 29, 38, 89, 26, 45, 62]\n",
    "plt.scatter(temp, sales, marker=\"o\", facecolors=\"red\", edgecolors=\"black\", s=scoop_price)"
   ]
  },
  {
   "cell_type": "code",
   "execution_count": null,
   "metadata": {},
   "outputs": [],
   "source": []
  },
  {
   "cell_type": "markdown",
   "metadata": {},
   "source": [
    "<details>\n",
    "    <summary><strong>Activity 08 Solution ✅</strong></summary>\n",
    "    \n",
    "```python\n",
    "\n",
    "%matplotlib notebook\n",
    "\n",
    "import matplotlib.pyplot as plt\n",
    "import numpy as np\n",
    "\n",
    "temp = [14.2, 16.4, 11.9, 15.2, 18.5, 22.1, 19.4, 25.1, 23.4, 18.1, 22.6, 17.2]\n",
    "sales = [215, 325, 185, 332, 406, 522, 412, 614, 544, 421, 445, 408]\n",
    "\n",
    "# Tell matplotlib to create a scatter plot based upon the above data\n",
    "\n",
    "# Without scoop_price\n",
    "plt.scatter(temp, sales, marker=\"o\", facecolors=\"red\", edgecolors=\"black\")\n",
    "\n",
    "# BONUS: With scoop_price set to the scalar value\n",
    "# scoop_price = [89, 18, 10, 28, 79, 46, 29, 38, 89, 26, 45, 62]\n",
    "# plt.scatter(temp, sales, marker=\"o\", facecolors=\"red\", edgecolors=\"black\", s=scoop_price)\n",
    "\n",
    "\n",
    "# Set the upper and lower limits of our y axis\n",
    "plt.ylim(100,620)\n",
    "\n",
    "# Set the upper and lower limits of our x axis\n",
    "plt.xlim(11,26)\n",
    "\n",
    "# Create a title, x label, and y label for our chart\n",
    "plt.title(\"Ice Cream Sales v Temperature\")\n",
    "plt.xlabel(\"Temperature (Celsius)\")\n",
    "plt.ylabel(\"Sales (Dollars)\")\n",
    "\n",
    "# Save an image of the chart and print to screen\n",
    "# NOTE: If your plot shrinks after saving an image,\n",
    "# update matplotlib to 2.2 or higher,\n",
    "# or simply run the above cells again.\n",
    "plt.savefig(\"./IceCreamSales.png\")\n",
    "plt.show()\n",
    "\n",
    "\n",
    "```\n",
    "</details>\n"
   ]
  }
 ],
 "metadata": {
  "kernelspec": {
   "display_name": "Python 3",
   "language": "python",
   "name": "python3"
  },
  "language_info": {
   "codemirror_mode": {
    "name": "ipython",
    "version": 3
   },
   "file_extension": ".py",
   "mimetype": "text/x-python",
   "name": "python",
   "nbconvert_exporter": "python",
   "pygments_lexer": "ipython3",
   "version": "3.7.6"
  }
 },
 "nbformat": 4,
 "nbformat_minor": 4
}
